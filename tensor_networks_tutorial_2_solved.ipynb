{
 "cells": [
  {
   "cell_type": "markdown",
   "metadata": {
    "id": "Qj5-u8GamIjC"
   },
   "source": [
    "# Tensor Networks and Quantum Simulations\n",
    "# Tutorial 2\n",
    "\n",
    "Perimeter Institute\n",
    "\n",
    "Quantum and AI Career Trajectories Mini-Course: Computational Methods and their Applications\n",
    "\n",
    "May 11, 2023"
   ]
  },
  {
   "cell_type": "code",
   "execution_count": 1,
   "metadata": {
    "id": "4UCxoqp8m70I"
   },
   "outputs": [],
   "source": [
    "import numpy as np\n",
    "import tensornetwork as tn\n",
    "import scipy as sp\n",
    "import time\n",
    "import pickle\n",
    "import matplotlib.pyplot as plt"
   ]
  },
  {
   "cell_type": "markdown",
   "metadata": {
    "id": "fwXzGRjrv-09"
   },
   "source": [
    "## Measuring observables"
   ]
  },
  {
   "cell_type": "markdown",
   "metadata": {
    "id": "zoSB-2o_2BWh"
   },
   "source": [
    "Gauging the state is very convenient when measuring local observables! The diagram we originally would have to calculate to measure some observable $O$ at site 3 would have been\n",
    "\n",
    "<h2 align=\"center\">\n",
    "<img src=\"https://drive.google.com/uc?export=view&id=1ygT6TC5gudXN-3tD4X5dKFxQHzbHcpAy\" width=\"700\">\n",
    " </h2>\n",
    "\n",
    "However, if the state is normalized and gauged correctly, the diagram reduces to\n",
    "\n",
    "<h2 align=\"center\">\n",
    "<img src=\"https://drive.google.com/uc?export=view&id=1OOzU0O9KTfCwmd9r81pVymQtSFLm1a-e\" width=\"100\">\n",
    " </h2>"
   ]
  },
  {
   "cell_type": "markdown",
   "metadata": {
    "id": "ihpKWwfI27tv"
   },
   "source": [
    "**Exercise 1** : Write a function that takes in a finite MPS, and observable $O$, and measures it for every site. \n",
    "\n",
    "Hints:\n",
    "* Remember to move the center position around using state.position()\n",
    "* Think about the contraction order, what would be the most optimal one?"
   ]
  },
  {
   "cell_type": "code",
   "execution_count": 2,
   "metadata": {
    "id": "OFpV4jpvvce9"
   },
   "outputs": [],
   "source": [
    "def measure_local(state,O):\n",
    "    measured = []\n",
    "    \n",
    "    ### Solution to Exercise 1: ###\n",
    "    for loc in range(len(state)):\n",
    "        state.position(loc)\n",
    "        measured.append(tn.ncon([state.tensors[loc],tn.conj(state.tensors[loc]),O],[[1,2,3],[1,4,3],[4,2]]))\n",
    "    return np.array(measured)"
   ]
  },
  {
   "cell_type": "markdown",
   "metadata": {
    "id": "B9pmMvi0qxS7"
   },
   "source": [
    "## Density matrix renormalization group"
   ]
  },
  {
   "cell_type": "markdown",
   "metadata": {
    "id": "BtWuigNXXrsm"
   },
   "source": [
    "In the following we'll use the DMRG algorithm to produce an MPS aproximation to the ground state of the transverse field Ising model. \n",
    "The `tensornetwork` library has already a simple DMRG algorithm implemented for us, and we will use it in the following to produce the MPS ground-state approximation."
   ]
  },
  {
   "cell_type": "code",
   "execution_count": 3,
   "metadata": {
    "colab": {
     "base_uri": "https://localhost:8080/",
     "height": 501
    },
    "id": "lGW6RzuR3SKG",
    "outputId": "1ae3b9e7-7aae-4983-fb46-9369617060bc"
   },
   "outputs": [
    {
     "name": "stdout",
     "output_type": "stream",
     "text": [
      "SS-DMRG sweep=4/4, site=1/64: optimized E=-81.12598009932351    \n",
      "dmrg did not converge to desired precision 1e-10 after 4 iterations\n",
      "\n"
     ]
    },
    {
     "data": {
      "text/plain": [
       "[<matplotlib.lines.Line2D at 0x7fb7e1cda370>]"
      ]
     },
     "execution_count": 3,
     "metadata": {},
     "output_type": "execute_result"
    },
    {
     "data": {
      "image/png": "[encoded data removed]",
      "text/plain": [
       "<Figure size 432x288 with 1 Axes>"
      ]
     },
     "metadata": {
      "needs_background": "light"
     },
     "output_type": "display_data"
    }
   ],
   "source": [
    "D = 16 # bond dimension of the MPS\n",
    "N = 64 # number of spins in the system\n",
    "J = 1.0 # interaction parameter\n",
    "B = 1 # magnetic field strength\n",
    "Jx = J * np.ones(N-1) # vector of interactions, one per spin-pair\n",
    "Bz = B * np.ones(N) # local magnetic fields per spin\n",
    "ising_mpo = tn.FiniteTFI(Jx, Bz, dtype=np.float64) # an MPO representation of the Hamiltonian for the TFI\n",
    "mps = tn.FiniteMPS.random(D = [D]*(N-1), d = [2] * N, dtype=np.float64) # an initial random MPS\n",
    "\n",
    "mps.position(0) # move the center of orthogonality to the first site of the chain\n",
    "\n",
    "dmrg = tn.FiniteDMRG(mps, ising_mpo) #DMRG interface\n",
    "dmrg.run_one_site(num_sweeps = 4, verbose=1, precision=1E-10) # run DMRG optimization\n",
    "\n",
    "print()\n",
    "sz = np.diag([-1,1]) # pauli-z operator\n",
    "sx = np.array([[0,1],[1,0]]) # pauli-x operator\n",
    "sz_obs = measure_local(mps,sz) # list of observables\n",
    "plt.plot(sz_obs)"
   ]
  },
  {
   "cell_type": "markdown",
   "metadata": {
    "id": "yZJw6q_tc55Y"
   },
   "source": [
    "For small magnetic fields the ground state of the Ising model is a (anti) ferromagnet (depending on the sign of J), i.e. there is a local order parameter, the magnetic field, which is non-zero. As one increases the transverse field strength, the local magnetization decreases, until it eventually vanishes. At the exact point where the order parameter vanishes, the system has a criticial point, and the ground state is gapless (in the thermodynamic limit). \n",
    "\n",
    "**Exercise 2:** Using the DMRG interface of the `tensornetwork` package, run ground-state simulations for 20 values of the magnetic field $B_z$ between 0 and 1.5, and try to roughly locate the phase transition points. For that purpose, measure the bulk magnetization in $x$ direction of the ground state, say at the center site, for all values of $B_z$, and plot the results."
   ]
  },
  {
   "cell_type": "code",
   "execution_count": 4,
   "metadata": {
    "colab": {
     "base_uri": "https://localhost:8080/"
    },
    "id": "FMKDuwuscAtf",
    "outputId": "bd484ee2-3e2c-4c9a-bd5e-3fc1c943e978"
   },
   "outputs": [
    {
     "name": "stdout",
     "output_type": "stream",
     "text": [
      "SS-DMRG sweep=4/4, site=1/64: optimized E=-74.69351668835343    \n",
      "dmrg did not converge to desired precision 1e-10 after 4 iterations\n",
      "SS-DMRG sweep=4/4, site=1/64: optimized E=-75.31182531201537    \n",
      "dmrg did not converge to desired precision 1e-10 after 4 iterations\n",
      "SS-DMRG sweep=4/4, site=1/64: optimized E=-75.9507428413591     \n",
      "dmrg did not converge to desired precision 1e-10 after 4 iterations\n",
      "SS-DMRG sweep=4/4, site=1/64: optimized E=-76.61116268293806    \n",
      "dmrg did not converge to desired precision 1e-10 after 4 iterations\n",
      "SS-DMRG sweep=4/4, site=1/64: optimized E=-77.2942450658037     \n",
      "dmrg did not converge to desired precision 1e-10 after 4 iterations\n",
      "SS-DMRG sweep=4/4, site=1/64: optimized E=-78.00174274324391    \n",
      "dmrg did not converge to desired precision 1e-10 after 4 iterations\n",
      "SS-DMRG sweep=4/4, site=1/64: optimized E=-78.73574146806328    \n",
      "dmrg did not converge to desired precision 1e-10 after 4 iterations\n",
      "SS-DMRG sweep=4/4, site=1/64: optimized E=-79.49954299957656    \n",
      "dmrg did not converge to desired precision 1e-10 after 4 iterations\n",
      "SS-DMRG sweep=4/4, site=1/64: optimized E=-80.29621499179248    \n",
      "dmrg did not converge to desired precision 1e-10 after 4 iterations\n",
      "SS-DMRG sweep=4/4, site=1/64: optimized E=-81.1259800992391     \n",
      "dmrg did not converge to desired precision 1e-10 after 4 iterations\n",
      "SS-DMRG sweep=4/4, site=1/64: optimized E=-81.98580433366557    \n",
      "dmrg did not converge to desired precision 1e-10 after 4 iterations\n",
      "SS-DMRG sweep=4/4, site=1/64: optimized E=-82.87174440766974    \n",
      "dmrg did not converge to desired precision 1e-10 after 4 iterations\n",
      "SS-DMRG sweep=4/4, site=1/64: optimized E=-83.7804136165018     \n",
      "dmrg did not converge to desired precision 1e-10 after 4 iterations\n",
      "SS-DMRG sweep=4/4, site=1/64: optimized E=-84.7091469481012     \n",
      "dmrg did not converge to desired precision 1e-10 after 4 iterations\n",
      "SS-DMRG sweep=4/4, site=1/64: optimized E=-85.65582872901876    \n",
      "dmrg did not converge to desired precision 1e-10 after 4 iterations\n",
      "SS-DMRG sweep=4/4, site=1/64: optimized E=-86.61873424503624    \n",
      "dmrg did not converge to desired precision 1e-10 after 4 iterations\n",
      "SS-DMRG sweep=4/4, site=1/64: optimized E=-87.59642296433998    \n",
      "dmrg did not converge to desired precision 1e-10 after 4 iterations\n",
      "SS-DMRG sweep=4/4, site=1/64: optimized E=-88.58766828066098    \n",
      "dmrg did not converge to desired precision 1e-10 after 4 iterations\n",
      "SS-DMRG sweep=4/4, site=1/64: optimized E=-89.59140985822931    \n",
      "dmrg did not converge to desired precision 1e-10 after 4 iterations\n",
      "SS-DMRG sweep=4/4, site=1/64: optimized E=-90.60672004763283    \n",
      "dmrg did not converge to desired precision 1e-10 after 4 iterations\n",
      "SS-DMRG sweep=4/4, site=1/64: optimized E=-91.6327793751892     \n",
      "dmrg did not converge to desired precision 1e-10 after 4 iterations\n",
      "SS-DMRG sweep=4/4, site=1/64: optimized E=-95.29875280035368    \n",
      "dmrg did not converge to desired precision 1e-10 after 4 iterations\n",
      "SS-DMRG sweep=3/4, site=1/64: optimized E=-106.81927050118271   "
     ]
    }
   ],
   "source": [
    "order_param = []\n",
    "Bvalues = np.append(np.append(np.linspace(0, 0.8, 5), np.linspace(0.82,1.2, 20)), np.linspace(1.22, 1.5, 5))\n",
    "\n",
    "### exercise 2: your code here\n",
    "for B in Bvalues:\n",
    "  Bz = B * np.ones(N) # local magnetic fields per spin\n",
    "  ising_mpo = tn.FiniteTFI(Jx, Bz, dtype=np.float64) # an MPO representation of the Hamiltonian for the TFI\n",
    "  tempmps = tn.FiniteMPS.random(D = [D]*(N-1), d = [2] * N, dtype=np.float64) # an initial random MPS\n",
    "  dmrg = tn.FiniteDMRG(tempmps, ising_mpo) #DMRG interface\n",
    "  dmrg.run_one_site(num_sweeps = 4, verbose=1, precision=1E-10) # run DMRG optimization\n",
    "  sx_obs = measure_local(tempmps,sx) # list of observables\n",
    "  order_param.append(np.abs(sx_obs[N//2]))"
   ]
  },
  {
   "cell_type": "code",
   "execution_count": 5,
   "metadata": {
    "colab": {
     "base_uri": "https://localhost:8080/",
     "height": 448
    },
    "id": "sFnJBmuscYgs",
    "outputId": "597858c3-0072-4cdc-90fa-abebb40b6bc9"
   },
   "outputs": [
    {
     "data": {
      "text/plain": [
       "[<matplotlib.lines.Line2D at 0x7fb7e1e81430>]"
      ]
     },
     "execution_count": 5,
     "metadata": {},
     "output_type": "execute_result"
    },
    {
     "data": {
      "image/png": "[encoded data removed]",
      "text/plain": [
       "<Figure size 432x288 with 1 Axes>"
      ]
     },
     "metadata": {
      "needs_background": "light"
     },
     "output_type": "display_data"
    }
   ],
   "source": [
    "plt.plot(Bvalues, order_param)"
   ]
  },
  {
   "cell_type": "markdown",
   "metadata": {
    "id": "8LOVXDllq5mP"
   },
   "source": [
    "## Correlation functions"
   ]
  },
  {
   "cell_type": "markdown",
   "metadata": {
    "id": "h67P5eQiDR_x"
   },
   "source": [
    "\n",
    "Correlation functions are calculated as follows\n",
    "\n",
    "<h2 align=\"center\">\n",
    "<img src=\"https://drive.google.com/uc?export=view&id=1yCxxF1FoIKGjbq18zyY7q8IXJOrasZ0c\" width=\"700\">\n",
    "</h2>"
   ]
  },
  {
   "cell_type": "markdown",
   "metadata": {
    "id": "g3xJSswgDtHA"
   },
   "source": [
    "**Exercise 3**: Write a function that takes in a start-position, a stop-position, a state and an observable, and calculates the correlation function $\\langle O_i O_j \\rangle$ for $i$ = start, and for all $j$ smaller than stop. "
   ]
  },
  {
   "cell_type": "code",
   "execution_count": 6,
   "metadata": {
    "id": "g9LQi3k5DgbC"
   },
   "outputs": [],
   "source": [
    "def measure_corr(state,start,stop,O):\n",
    "    state.position(start) # bring orthogonality center to `start`\n",
    "    data = []\n",
    "    ### exercise 3: your code here\n",
    "    left = tn.ncon([state.tensors[start],tn.conj(state.tensors[start]),O],[[1,2,-2],[1,3,-1],[3,2]])\n",
    "    for loc in range(start+1,stop):\n",
    "        ### Solution to Exercise 2: ###\n",
    "        data.append(tn.ncon([left,state.tensors[loc],tn.conj(state.tensors[loc]),O],[[1,2],[2,3,4],[1,5,4],[5,3]]))\n",
    "        left = tn.ncon([left,state.tensors[loc],tn.conj(state.tensors[loc])],[[1,2],[2,3,-2],[1,3,-1]])\n",
    "        \n",
    "    return data"
   ]
  },
  {
   "cell_type": "code",
   "execution_count": 7,
   "metadata": {
    "colab": {
     "base_uri": "https://localhost:8080/",
     "height": 452
    },
    "id": "ROmPbwYAENiy",
    "outputId": "4df576c3-d849-4bc3-ffae-dd8588e5b49c"
   },
   "outputs": [
    {
     "data": {
      "text/plain": [
       "[<matplotlib.lines.Line2D at 0x7fb7e287db80>]"
      ]
     },
     "execution_count": 7,
     "metadata": {},
     "output_type": "execute_result"
    },
    {
     "data": {
      "image/png": "[encoded data removed]",
      "text/plain": [
       "<Figure size 432x288 with 1 Axes>"
      ]
     },
     "metadata": {
      "needs_background": "light"
     },
     "output_type": "display_data"
    }
   ],
   "source": [
    "sz = np.diag([-1,1])\n",
    "sz_obs = measure_corr(mps,31,63,sz)\n",
    "plt.plot(sz_obs)"
   ]
  },
  {
   "cell_type": "markdown",
   "metadata": {
    "id": "R1o1qWMIAlP-"
   },
   "source": [
    "## Compressing an MPS"
   ]
  },
  {
   "cell_type": "markdown",
   "metadata": {
    "id": "XdIlKEtrArAf"
   },
   "source": [
    "Now it's time to write our first real MPS algorithm - compressing a state to a lower virtual dimension. \n",
    "We will do this in typical MPS-fashion, by sweeping through the state and updating every tensor individually. For example, in the diagram below we update tensor $t_i$ using an SV decomposition:\n",
    "\n",
    "<h2 align=\"center\">\n",
    "<img src=\"https://drive.google.com/uc?export=view&id=1TZBDLmVoq8rSI6UEVh5C-Qys6Hy8kUaZ\" width=\"900\">\n",
    "</h2>\n",
    "\n",
    "where the dimension of the first leg of $C$ has a lower dimension than its second leg. \n",
    "\n",
    "It is important that the the MPS has been gauged such that site $i$ is the centerposition! In this case the problem reduces to\n",
    "\n",
    "<h2 align=\"center\">\n",
    "<img src=\"https://drive.google.com/uc?export=view&id=1q_V1M9TgQttDoSsNOeIvc5P_sGVP_Edw\" width=\"400\">\n",
    "</h2>\n",
    "\n",
    "We need a low rank decomposition of a single tensor - which is exactly what the singular value decomposition gives us!\n",
    "\n",
    "\n",
    "Our approach will therefore be as follows:\n",
    "\n",
    "* place the center at position $i$\n",
    "* perform an svd ($= U,S,V$)\n",
    "* the updated tensor will be $U$ will be the new MPS tensor at site $i$\n",
    "* $S$, $V$ will be absorbed in the next site $i+1$, where the procedure is repeated.\n",
    "    \n",
    "**Exercise 4**: Complete the `compress_mps` function below. Use the `np.linalg.svd` to perform the SVD.\n",
    "\n"
   ]
  },
  {
   "cell_type": "code",
   "execution_count": 8,
   "metadata": {
    "id": "OL644Yx-ERGy"
   },
   "outputs": [],
   "source": [
    "def compress_mps(mps_tensors, new_D):\n",
    "    # mps_tensors here is a list of MPS tensors. \n",
    "    # You can assume that the orthogonality center is at position 0\n",
    "\n",
    "    # we first make a copy of the list of tensors\n",
    "    new_mps_tensors  = list(mps_tensors)\n",
    "\n",
    "    # now sweep from left to right and do svd\n",
    "    for loc in range(len(mps_tensors)-1):\n",
    "        t = new_mps_tensors[loc]\n",
    "        t_shape = t.shape\n",
    "        ##### exercise 4: write the code to perform the SVD of the MPS tensor t\n",
    "\n",
    "        # reshape the tensor and at position `loc` into a matrix and do svd\n",
    "        U, S, V = np.linalg.svd(np.reshape(t, (t_shape[0]*t_shape[1], t_shape[2])))\n",
    "        # truncate the SVD from above such that the maximum number of singular values\n",
    "        # kept is D = min(new_D, t_shape[2])\n",
    "\n",
    "\n",
    "        D = min(new_D, t.shape[2])\n",
    "\n",
    "        ###### Exercise 4: fill in the code to truncate the bond dimension to a value of D\n",
    "        U = U[:,:D]\n",
    "        S = S[:D]\n",
    "        V = V[:D, :]\n",
    "\n",
    "        C = np.diag(S) @ V\n",
    "        # update the tensor at loc with truncated U from above, and multiply the remainder \n",
    "        # diag(S) @ V to the right-next tensor of the mps\n",
    "        new_mps_tensors[loc] = U.reshape(t_shape[0], t_shape[1], D)\n",
    "\n",
    "        ######## Exercise 4: fill in the code to multiply C the the next-right tensor of the MPS\n",
    "        new_mps_tensors[loc+1] = tn.ncon([C,new_mps_tensors[loc+1]],[[-1,1],[1,-2,-3]])\n",
    "    # return the new tensors \n",
    "    return new_mps_tensors"
   ]
  },
  {
   "cell_type": "markdown",
   "metadata": {
    "id": "oo0yu13PCBvK"
   },
   "source": [
    "We will test our new function on the groundstate of the Ising model that we obtained above. We will evaluate how observable change under truncation of the wave function."
   ]
  },
  {
   "cell_type": "code",
   "execution_count": 9,
   "metadata": {
    "colab": {
     "base_uri": "https://localhost:8080/",
     "height": 326
    },
    "id": "h69FXINdCAWJ",
    "outputId": "098081db-e483-4963-a985-588ffde40ba7"
   },
   "outputs": [
    {
     "data": {
      "image/png": "[encoded data removed]",
      "text/plain": [
       "<Figure size 648x216 with 2 Axes>"
      ]
     },
     "metadata": {
      "needs_background": "light"
     },
     "output_type": "display_data"
    }
   ],
   "source": [
    "new_D = 3\n",
    "\n",
    "sx = np.array([[0,1],[1,0]])\n",
    "sz = np.array([[1,0],[0,-1]])\n",
    "\n",
    "local_orig = measure_local(mps,sx)\n",
    "corr_orig = measure_corr(mps,6,22,sz)\n",
    "mps.position(0)\n",
    "mps_tensors_compressed = compress_mps(mps.tensors,new_D)    \n",
    "\n",
    "# now compress the state\n",
    "mps_compressed = tn.FiniteMPS(mps_tensors_compressed)\n",
    "\n",
    "#make sure to move center site to site 0 prior to measurement\n",
    "mps_compressed.position(0)\n",
    "\n",
    "local_new = measure_local(mps_compressed,sx)\n",
    "corr_new = measure_corr(mps_compressed,6,22,sz)\n",
    "\n",
    "plt.figure(figsize=(9,3))\n",
    "\n",
    "plt.subplot(121)\n",
    "plt.plot(corr_orig, label=f'D={D}')\n",
    "plt.plot(corr_new, label=f'D={new_D}')\n",
    "plt.xlabel('site')\n",
    "plt.ylabel('<s_zs_z>_ij')\n",
    "plt.legend()\n",
    "plt.subplot(122)\n",
    "plt.plot(local_orig, 'x', label=f'D={D}')\n",
    "plt.plot(local_new, label=f'D={new_D}')\n",
    "plt.xlabel('site')\n",
    "plt.ylabel('<s_x>')\n",
    "\n",
    "plt.show()"
   ]
  },
  {
   "cell_type": "markdown",
   "metadata": {
    "id": "bwdvPVVk0md4"
   },
   "source": [
    "We ca onbserve that the correlation function seems more susceptible to error upon trunction. This is in fact a general observation, and typically observed in MPS calculations. Correlation functions are notoriously more difficult to converge with bond dimension than local observables."
   ]
  },
  {
   "cell_type": "markdown",
   "metadata": {
    "id": "LCrpcjIHChfd"
   },
   "source": [
    "## Time evolution"
   ]
  },
  {
   "cell_type": "markdown",
   "metadata": {
    "id": "08QZ-d1NCoWb"
   },
   "source": [
    "In the following we will implement one of the simplest and also most widely used method to evolve a quantum state forward in time, the TEBD algorithm (invented by Guifre Vidal ~2004). The TEBD algorithm breakes the propagtor $\\exp (-itH)$ into a product of small time steps $\\exp(-idtH)$, and applies an approximate Trotter-Susuki breakup of the exponential $\\exp(-idt H)$ into two non-commuting parts, each of which can be applied to the state a t hand to evolve it forward over a small time step $dt$. \n",
    "\n",
    "In more detail, the propagator \n",
    "\n",
    "$\n",
    "\\exp(-idtH) = \\exp\\left(-idt (\\sum_{j=even} h_j + \\sum_{j=odd}h_j)\\right)\n",
    "$\n",
    "\n",
    "We will assume translational invariane, hence all $h_i$ are actually identical, but act at different sites. For that reason we will drop the index $i$ in diagrams if no confusion can occur. \n",
    "The Trotter-Suzuki breakup makes the approximation\n",
    "\n",
    "$\n",
    "\\exp(-idtH) \\approx \\exp(-idt \\sum_{j=even} h_j) \\exp(-idt\\sum_{j=odd}h_j)\n",
    "$\n",
    "\n",
    "Each $h_j$ acts on the two consecutive sites $j, j+1$. All operators within the even sum hence commute with each other (as do the operators within the odd sum). Hence, we can further break this apart into \n",
    "\n",
    "$\n",
    "\\exp(-idt\\sum_{j=even}) =\\prod_{j=even}\\exp(-idth_j) \n",
    "$\n",
    "\n",
    "and similar for the odd sum.\n",
    "\n",
    "The exponentials $\\exp(-idt h_j)$ are easy to compute, they are just two-by-two matrices, and have the following diagrammatic notation:\n",
    "\n",
    "<h2 align=\"center\">\n",
    "<img src=\"https://drive.google.com/uc?export=view&id=1BRGfVmmjUOWWEgfA-lCBbI_0qeJMpJ7B\" width=\"300\">\n",
    "</h2>\n",
    "\n",
    "The evolution of an initial MPS $|\\psi\\rangle$ over a small period of time $dt$ under a nearest-neighbor Hamiltonian $H$ can then be drawn as the following diagram:\n",
    "\n",
    "<h2 align=\"center\">\n",
    "<img src=\"https://drive.google.com/uc?export=view&id=1mAHhD8J58RXZ2ADyf8W2ANipKRWIg3W5\" width=\"700\">\n",
    "</h2>\n",
    "\n",
    "For a single time step one may be able to contract this exactly, and represent the result as a new MPS, albeit at the cost of increasing the bond dimension by a factor of two every time we apply a gate to a bond. Repeated application of this process will lead to an exponentially increasing bond dimension. This is a serious problem!! In order to make some progress, we thus truncate the MPS back to its original bond dimension after each application of a gate. Remember: we want to perform optimal truncation, so prior to truncating, we have to bring the orthogonality center of the MPS to the bond we want to truncate. \n",
    "\n",
    "<h2 align=\"center\">\n",
    "<img src=\"https://drive.google.com/uc?export=view&id=1A5tED17Q3si1RCdwA0W-X0Dh2B99HTOG\" width=\"600\">\n",
    "</h2>\n",
    "\n",
    "**Exercise 5**: Implement the  time-evolving block decimation (TEBD) algorithm by filling in the parts of the code marked `...` below.\n",
    "\n",
    "Note: Instead of truncating the SVD to some fixed bond dimension, we will use the option max_truncation_err to control the smallest kept singular value. We will for this exercise make use of the function `mps.apply_two_site_gate`, which will handle most of the heavy lifting for us. Take a look at the docstring of this function:\n",
    "```\n",
    "\"\"\"\n",
    "  def apply_two_site_gate(self,\n",
    "                          gate: Tensor,\n",
    "                          site1: int,\n",
    "                          site2: int,\n",
    "                          max_singular_values: Optional[int] = None,\n",
    "                          max_truncation_err: Optional[float] = None,\n",
    "                          center_position: Optional[int] = None,\n",
    "                          relative: bool = False) -> Tensor:\n",
    "    \"\"\"Apply a two-site gate to an MPS. This routine will in general destroy\n",
    "    any canonical form of the state. If a canonical form is needed, the user\n",
    "    can restore it using `FiniteMPS.position`.\n",
    "\n",
    "    Args:\n",
    "      gate: A two-body gate.\n",
    "      site1: The first site where the gate acts.\n",
    "      site2: The second site where the gate acts.\n",
    "      max_singular_values: The maximum number of singular values to keep.\n",
    "      max_truncation_err: The maximum allowed truncation error.\n",
    "      center_position: An optional value to choose the MPS tensor at\n",
    "        `center_position` to be isometric after the application of the gate.\n",
    "        Defaults to `site1`. If the MPS is canonical (i.e.\n",
    "        `BaseMPS.center_position != None`), and if the orthogonality center\n",
    "        coincides with either `site1` or `site2`,  the orthogonality center will\n",
    "        be shifted to `center_position` (`site1` by default). If the\n",
    "        orthogonality center does not coincide with `(site1, site2)` then\n",
    "        `MPS.center_position` is set to `None`.\n",
    "      relative: Multiply `max_truncation_err` with the largest singular value.\n",
    "\n",
    "    Returns:\n",
    "      `Tensor`: A scalar tensor containing the truncated weight of the\n",
    "        truncation.\n",
    "    \"\"\"\n",
    "```\n"
   ]
  },
  {
   "cell_type": "code",
   "execution_count": 10,
   "metadata": {
    "id": "jtSopw8OCGTm"
   },
   "outputs": [],
   "source": [
    "def tebd(state,hs,dt,max_truncation_error):\n",
    "\n",
    "    # we assume even number of lattice sites here.\n",
    "    # gate_left is the left-most gate, gate_right the right-most, and gate_bulk\n",
    "    # will be the gate applied to all bulk sites. \n",
    "    # The reason for this split is due to some technicalities related to the boundaries\n",
    "    # of the system, but we are not going to worry about this here.\n",
    "\n",
    "    gate_left = np.reshape(sp.linalg.expm(-1j*dt*np.reshape(hs[0],(4,4))),(2,2,2,2))\n",
    "    gate_bulk = np.reshape(sp.linalg.expm(-1j*dt*np.reshape(hs[1],(4,4))),(2,2,2,2))\n",
    "    gate_right = np.reshape(sp.linalg.expm(-1j*dt*np.reshape(hs[2],(4,4))),(2,2,2,2))\n",
    "    N = len(state)\n",
    "    # first the even gates (start counting at 0)  \n",
    "    assert len(state)%2==0\n",
    "    for i in range(0,len(state)-1,2):\n",
    "        if i == 0:\n",
    "          gate = gate_left\n",
    "        elif i == N - 2:\n",
    "          gate = gate_right\n",
    "        else:\n",
    "          gate = gate_bulk\n",
    "        state.position(i)\n",
    "        ### Exercise 5: complete the code to apply `gate` to the mps\n",
    "        tw = state.apply_two_site_gate(gate, i, i + 1,max_truncation_err = max_truncation_error, center_position = i + 1)\n",
    "    # now odd gates (these will always be bulk gates due to N even)\n",
    "    for i in reversed(range(1,len(state)-1,2)):\n",
    "        state.position(i)\n",
    "         ### Exercise 5: complete the code to apply `gate` to the mps\n",
    "        state.apply_two_site_gate(gate_bulk, i, i + 1,max_truncation_err=max_truncation_error, center_position = i)\n",
    "    return state"
   ]
  },
  {
   "cell_type": "code",
   "execution_count": 11,
   "metadata": {
    "colab": {
     "base_uri": "https://localhost:8080/",
     "height": 448
    },
    "id": "4z_srssnFnC9",
    "outputId": "52bc5df1-7a31-44df-f3b0-bd0b8964b553"
   },
   "outputs": [
    {
     "name": "stdout",
     "output_type": "stream",
     "text": [
      "SS-DMRG sweep=3/4, site=1/64: optimized E=(-136.00211539170473+0j)   "
     ]
    },
    {
     "data": {
      "text/plain": [
       "[<matplotlib.lines.Line2D at 0x7fb7e2af1700>]"
      ]
     },
     "execution_count": 11,
     "metadata": {},
     "output_type": "execute_result"
    },
    {
     "data": {
      "image/png": "[encoded data removed]",
      "text/plain": [
       "<Figure size 432x288 with 1 Axes>"
      ]
     },
     "metadata": {
      "needs_background": "light"
     },
     "output_type": "display_data"
    }
   ],
   "source": [
    "D = 6 # bond dimension of the MPS\n",
    "N = 64 # number of spins in the system\n",
    "J = 1.0 # interaction parameter\n",
    "B = 2 # magnetic field strength\n",
    "Jx = J * np.ones(N-1) # vector of interactions, one per spin-pair\n",
    "Bz = B * np.ones(N) # local magnetic fields per spin\n",
    "sx = np.array([[0,1],[1,0]])\n",
    "ising_mpo = tn.FiniteTFI(Jx, Bz, dtype=np.complex128) # an MPO representation of the Hamiltonian for the TFI\n",
    "mps = tn.FiniteMPS.random(D = [D]*(N-1), d = [2] * N, dtype=np.complex128) # an initial random MPS\n",
    "dmrg = tn.FiniteDMRG(mps, ising_mpo) #DMRG interface\n",
    "dmrg.run_one_site(num_sweeps = 4, verbose=1, precision=1E-10) # run DMRG optimization\n",
    "\n",
    "# we now apply a spin flip to the center of the chain to create a non-eigenstate\n",
    "mps.tensors[N//2] = tn.ncon([mps.tensors[N//2],sx],[[-1,1,-3],[-2,1]])\n",
    "mps.position(N-1)\n",
    "mps.position(0)\n",
    "sz_obs = [np.real(measure_local(mps,sz))]\n",
    "plt.plot(sz_obs[0])"
   ]
  },
  {
   "cell_type": "code",
   "execution_count": 12,
   "metadata": {
    "colab": {
     "base_uri": "https://localhost:8080/",
     "height": 430
    },
    "id": "jkHYg8lvFp0s",
    "outputId": "c934ca91-24fe-441a-c603-a013d4f7cad3"
   },
   "outputs": [
    {
     "data": {
      "image/png": "[encoded data removed]",
      "text/plain": [
       "<Figure size 432x288 with 1 Axes>"
      ]
     },
     "metadata": {
      "needs_background": "light"
     },
     "output_type": "display_data"
    }
   ],
   "source": [
    "sz = np.diag([-1,1])\n",
    "eye = np.eye(2)\n",
    "\n",
    "# create the local hamiltonians used for time evolution later on\n",
    "sxsx = J * tn.ncon([sx, sx],[[-1,-3],[-2,-4]])\n",
    "h_left = sxsx + tn.ncon([sz, eye],[[-1,-3],[-2,-4]])*B + tn.ncon([eye, sz],[[-1,-3],[-2,-4]])*B/2\n",
    "h_right = sxsx+ tn.ncon([sz, eye],[[-1,-3],[-2,-4]])*B/2 + tn.ncon([eye, sz],[[-1,-3],[-2,-4]])*B\n",
    "h_bulk = sxsx + tn.ncon([sz, eye],[[-1,-3],[-2,-4]])*B/2 + tn.ncon([eye, sz],[[-1,-3],[-2,-4]])*B/2\n",
    "\n",
    "plt.plot(sz_obs[0])\n",
    "for n in range(100):\n",
    "  mps = tebd(mps,[h_left, h_bulk, h_right],dt=0.05,max_truncation_error=1e-5)\n",
    "  if n % 10 == 0:\n",
    "    sz_obs.append(np.real(measure_local(mps,sz)))\n",
    "    plt.plot(sz_obs[-1])\n",
    "\n",
    "\n",
    "plt.show()"
   ]
  },
  {
   "cell_type": "markdown",
   "metadata": {
    "id": "M4IQMUKHG_Pl"
   },
   "source": [
    "Time evolution of MPS is classical not efficient. During the evolution a lot of entanglement is created. This is reflected in the fact that the bond dimension of the MPS needs to grow to keep an accurate simulation. "
   ]
  },
  {
   "cell_type": "code",
   "execution_count": 13,
   "metadata": {
    "colab": {
     "base_uri": "https://localhost:8080/",
     "height": 448
    },
    "id": "AU2WcEsIHB3R",
    "outputId": "96d1626e-caf4-45e4-c807-795c6d60452a"
   },
   "outputs": [
    {
     "data": {
      "text/plain": [
       "[<matplotlib.lines.Line2D at 0x7fb7e2978250>]"
      ]
     },
     "execution_count": 13,
     "metadata": {},
     "output_type": "execute_result"
    },
    {
     "data": {
      "image/png": "[encoded data removed]",
      "text/plain": [
       "<Figure size 432x288 with 1 Axes>"
      ]
     },
     "metadata": {
      "needs_background": "light"
     },
     "output_type": "display_data"
    }
   ],
   "source": [
    "plt.plot(mps.bond_dimensions)"
   ]
  },
  {
   "cell_type": "markdown",
   "metadata": {
    "id": "CIYrOHRYHJVP"
   },
   "source": [
    "We can also perform a \"global quench\", which entails changing the entire hamiltonian before running time evolution:"
   ]
  },
  {
   "cell_type": "code",
   "execution_count": 14,
   "metadata": {
    "colab": {
     "base_uri": "https://localhost:8080/",
     "height": 917
    },
    "id": "1xaX9wzHHEd6",
    "outputId": "62a7ba09-97e7-4e9c-aef0-bb0213e048ad"
   },
   "outputs": [
    {
     "name": "stdout",
     "output_type": "stream",
     "text": [
      "SS-DMRG sweep=3/4, site=1/64: optimized E=(-136.00211539170542+0j)   "
     ]
    },
    {
     "data": {
      "image/png": "[encoded data removed]",
      "text/plain": [
       "<Figure size 432x288 with 1 Axes>"
      ]
     },
     "metadata": {
      "needs_background": "light"
     },
     "output_type": "display_data"
    },
    {
     "data": {
      "text/plain": [
       "Text(0, 0.5, 'bond dimension')"
      ]
     },
     "execution_count": 14,
     "metadata": {},
     "output_type": "execute_result"
    },
    {
     "data": {
      "image/png": "[encoded data removed]",
      "text/plain": [
       "<Figure size 432x288 with 1 Axes>"
      ]
     },
     "metadata": {
      "needs_background": "light"
     },
     "output_type": "display_data"
    }
   ],
   "source": [
    "D = 6 # bond dimension of the MPS\n",
    "N = 64 # number of spins in the system\n",
    "J = 1.0 # interaction parameter\n",
    "J2 = -J # we quench the interaction to twice its value\n",
    "B = 2 # magnetic field strength\n",
    "\n",
    "Jx = J * np.ones(N-1) # vector of interactions, one per spin-pair\n",
    "Bz = B * np.ones(N) # local magnetic fields per spin\n",
    "sx = np.array([[0,1],[1,0]])\n",
    "ising_mpo = tn.FiniteTFI(Jx, Bz, dtype=np.complex128) # an MPO representation of the Hamiltonian for the TFI\n",
    "mps = tn.FiniteMPS.random(D = [D]*(N-1), d = [2] * N, dtype=np.complex128) # an initial random MPS\n",
    "dmrg = tn.FiniteDMRG(mps, ising_mpo) #DMRG interface\n",
    "dmrg.run_one_site(num_sweeps = 4, verbose=1, precision=1E-10) # run DMRG optimization\n",
    "\n",
    "sxsx = J2 * tn.ncon([sx, sx],[[-1,-3],[-2,-4]])\n",
    "h_left = sxsx + tn.ncon([sz, eye],[[-1,-3],[-2,-4]])*B + tn.ncon([eye, sz],[[-1,-3],[-2,-4]])*B/2\n",
    "h_right = sxsx+ tn.ncon([sz, eye],[[-1,-3],[-2,-4]])*B/2 + tn.ncon([eye, sz],[[-1,-3],[-2,-4]])*B\n",
    "h_bulk = sxsx + tn.ncon([sz, eye],[[-1,-3],[-2,-4]])*B/2 + tn.ncon([eye, sz],[[-1,-3],[-2,-4]])*B/2\n",
    "\n",
    "dt = 0.05;\n",
    "nsteps = 50;\n",
    "\n",
    "bond_dimensions = [mps.bond_dimensions[N//2]]\n",
    "\n",
    "for step in range(nsteps):\n",
    "    mps = tebd(mps,[h_left, h_bulk, h_right],dt,1e-5);\n",
    "    bond_dimensions.append(mps.bond_dimensions[N//2])\n",
    "\n",
    "\n",
    "plt.plot(bond_dimensions)\n",
    "plt.xlabel('time')\n",
    "plt.ylabel('bond dimension')\n",
    "plt.show()\n",
    "plt.plot(mps.bond_dimensions)\n",
    "plt.xlabel('site')\n",
    "plt.ylabel('bond dimension')"
   ]
  },
  {
   "cell_type": "markdown",
   "metadata": {
    "id": "HEUjzJjlHRuC"
   },
   "source": [
    "We can see that the bond dimension needs to grow far quicker compared to the local quench case. This is typically what limits an MPS simulation - when the bond dimensions grows too large, and we can no longer keep the tensors in memory."
   ]
  }
 ],
 "metadata": {
  "colab": {
   "provenance": []
  },
  "kernelspec": {
   "display_name": "Python 3",
   "language": "python",
   "name": "python3"
  },
  "language_info": {
   "codemirror_mode": {
    "name": "ipython",
    "version": 3
   },
   "file_extension": ".py",
   "mimetype": "text/x-python",
   "name": "python",
   "nbconvert_exporter": "python",
   "pygments_lexer": "ipython3",
   "version": "3.8.5"
  }
 },
 "nbformat": 4,
 "nbformat_minor": 1
}

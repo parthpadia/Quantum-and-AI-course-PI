{
 "cells": [
  {
   "cell_type": "markdown",
   "metadata": {
    "id": "Qj5-u8GamIjC"
   },
   "source": [
    "# Tensor Networks and Quantum Simulations\n",
    "# Tutorial 1\n",
    "\n",
    "Perimeter Institute\n",
    "\n",
    "Quantum and AI Career Trajectories Mini-Course: Computational Methods and their Applications\n",
    "\n",
    "May 9, 2023"
   ]
  },
  {
   "cell_type": "code",
   "execution_count": 2,
   "metadata": {
    "id": "4UCxoqp8m70I"
   },
   "outputs": [],
   "source": [
    "import numpy as np\n",
    "import tensornetwork as tn\n",
    "import scipy as sp\n",
    "import time\n",
    "import pickle\n",
    "import matplotlib.pyplot as plt"
   ]
  },
  {
   "cell_type": "markdown",
   "metadata": {
    "id": "fwXzGRjrv-09"
   },
   "source": [
    "## Tensor contractions"
   ]
  },
  {
   "cell_type": "markdown",
   "metadata": {
    "id": "hxQvN4qqotMB"
   },
   "source": [
    "The heart of every tensor network library is its contraction routine, a function that can be used to calculate\n",
    "\n",
    "\\begin{equation}\n",
    "C_{i,l} = \\sum_{j,k} A_{i,j,k} B_{l,k,j}\n",
    "\\end{equation}\n",
    "\n",
    "efficiently. This can be done by explicitly calculating this sum:"
   ]
  },
  {
   "cell_type": "code",
   "execution_count": 3,
   "metadata": {
    "colab": {
     "base_uri": "https://localhost:8080/"
    },
    "id": "eHIe4RJNpaLJ",
    "outputId": "da10014f-ba82-4abb-a3dd-a99613e33f67"
   },
   "outputs": [
    {
     "name": "stdout",
     "output_type": "stream",
     "text": [
      "Time: 2.131732940673828 seconds\n"
     ]
    }
   ],
   "source": [
    "t = time.time();\n",
    "\n",
    "a = np.random.rand(100,4,102);\n",
    "b = np.random.rand(50,102,4);\n",
    "\n",
    "c = np.zeros((100,50));\n",
    "for i in range(100):\n",
    "    for j in range(4):\n",
    "        for k in range(102):\n",
    "            for l in range(50):\n",
    "                c[i,l] += a[i,j,k]*b[l,k,j]\n",
    "print( \"Time: {} seconds\".format(time.time()-t) )"
   ]
  },
  {
   "cell_type": "markdown",
   "metadata": {
    "id": "2C2ny3iapqPD"
   },
   "source": [
    "But this is slow (and very long to write out). Much more efficient is to use a series of reshapes/permutations/matrix multiplications. The bulk of the work will then be done using the system's highly optimized BLAS libarary:"
   ]
  },
  {
   "cell_type": "code",
   "execution_count": 4,
   "metadata": {
    "colab": {
     "base_uri": "https://localhost:8080/"
    },
    "id": "8P7Lbk3cno9z",
    "outputId": "810eb04a-67ff-48ea-9156-ce12835cb596"
   },
   "outputs": [
    {
     "name": "stdout",
     "output_type": "stream",
     "text": [
      "Time: 0.007953166961669922 seconds\n"
     ]
    }
   ],
   "source": [
    "a = np.random.rand(100,4,102)\n",
    "b = np.random.rand(50,102,4)\n",
    "\n",
    "t = time.time()\n",
    "a_r = np.reshape(a,(100,4*102))\n",
    "b_t = np.transpose(b,(2,1,0))\n",
    "b_tr = np.reshape(b_t,(4*102,50))\n",
    "\n",
    "c = a_r@b_tr\n",
    "print( \"Time: {} seconds\".format(time.time()-t) )"
   ]
  },
  {
   "cell_type": "markdown",
   "metadata": {
    "id": "MIRTZkyyqSFl"
   },
   "source": [
    "## The `ncon` function"
   ]
  },
  {
   "cell_type": "markdown",
   "metadata": {
    "id": "uGrKIfuEqhTv"
   },
   "source": [
    "While the reshape-permute-multiply approach works, it's both tedious and error prone. There is a far more convenient function that does these operations automatically, called `ncon` (https://arxiv.org/abs/1402.0939).  `ncon` (short for Networks CONtractor) defines an interface for the contraction of complicated tensor networks. The minimal input to `ncon` is a list of tensors, and a list of a list of contraction indices. If `A,B` are tensors of order 3, then a possible input would look the following way:\n",
    "```\n",
    "result = ncon([A,B],[[-1,1,2],[-2,2,1]])\n",
    "```\n",
    "The corresponding diagram is given by \n",
    " <h2 align=\"center\">\n",
    "<img src=\"https://drive.google.com/uc?export=view&id=1WgMlOTtOJA055978A4Pi5onytaiRZ5cG\" width=\"200\">\n",
    " </h2>\n",
    "\n",
    "The second input to argument to `ncon` above is a list of a list of integers. Each integer there can be positive or negative (0 is not allowed). The first list in the second argument specifies one such integer label for each index of tensor A, the second list one integer label for each index of tensor B. \n",
    "\n",
    "Negative labels specify uncontracted indices, and should only appear once. Positive indices specify contracted indices, and have to be appear **exactly twice**. `ncon` will then perform the specified contraction. The bond with the lowest positive integer will be contracted first, followed by the bond with the next largest number, a.s.o. until all contractions have been carried out. \n",
    "\n",
    "The indices of the resulting tensor will the ordered such that the index with label -1 is the first index, index with label -2 the second, a.s.o."
   ]
  },
  {
   "cell_type": "code",
   "execution_count": 5,
   "metadata": {
    "colab": {
     "base_uri": "https://localhost:8080/"
    },
    "id": "7ewcr_VUpuE7",
    "outputId": "68429b45-f53f-419e-c383-617eb2bd6573"
   },
   "outputs": [
    {
     "name": "stdout",
     "output_type": "stream",
     "text": [
      "Time: 0.004661083221435547 seconds\n"
     ]
    }
   ],
   "source": [
    "t = time.time()\n",
    "c = tn.ncon([a,b],[[-1,1,2],[-2,2,1]]);\n",
    "print( \"Time: {} seconds\".format(time.time()-t) )"
   ]
  },
  {
   "cell_type": "markdown",
   "metadata": {
    "id": "74xkvYGzqyrq"
   },
   "source": [
    "Every entry in the list of tensors has a corresponding entry in the list of legs:\n",
    "\n",
    "<h2 align=\"center\">\n",
    "<img src=\"https://drive.google.com/uc?export=view&id=1QjhtyqDeImp-Hv33uhScGQ0rpm61nnom\" width=\"200\">\n",
    " </h2>\n",
    "\n",
    "if a leg-label occurs twice then it will be contracted over. Negative labels correspond with the legs of the output tensor. In this contraction, we tell ncon to contract the second leg of A with the third leg of B, and to contract the third leg of A with the second leg of B. \n",
    "\n",
    "**Exercise 1**: Code up the following contraction diagram\n",
    "\n",
    "<h2 align=\"center\">\n",
    "<img src=\"https://drive.google.com/uc?export=view&id=1JcJ1ep8AZNgEZCCr1idYtsag4gHIu17Z\" width=\"300\">\n",
    " </h2>"
   ]
  },
  {
   "cell_type": "code",
   "execution_count": 6,
   "metadata": {
    "colab": {
     "base_uri": "https://localhost:8080/"
    },
    "id": "ZU_QDBDoqrTo",
    "outputId": "5e63a238-4482-424b-96f2-071dbf3f28ea"
   },
   "outputs": [
    {
     "data": {
      "text/plain": [
       "array(2.40350617)"
      ]
     },
     "execution_count": 6,
     "metadata": {},
     "output_type": "execute_result"
    }
   ],
   "source": [
    "A = np.random.rand(1,2,3)\n",
    "B = np.random.rand(3,1)\n",
    "C = np.random.rand(3,2,4)\n",
    "D = np.random.rand(3,4)\n",
    "\n",
    "### Solution to Exercise 1: ###\n",
    "tn.ncon([A,B,C,D],[[1,2,3],[4,1],[4,2,5],[3,5]])"
   ]
  },
  {
   "cell_type": "markdown",
   "metadata": {
    "id": "i2E6312FMkGy"
   },
   "source": [
    "## Contraction order"
   ]
  },
  {
   "cell_type": "markdown",
   "metadata": {
    "id": "JjE7-HiaMoJf"
   },
   "source": [
    "`ncon` still works behind the scenes by succesively permuting/reshaping/multiplying pairs of matrices, and the order that this is done can greatly influence the computational cost! Remember that the cost of muliplying a matrix of dimensions $(m,k)$ with one of dimensions $(k,l)$ scales as $mkl$.\n",
    "\n",
    "Consider the following contraction diagram\n",
    "\n",
    "<h2 align=\"center\">\n",
    "<img src=\"https://drive.google.com/uc?export=view&id=1fX4W_Pr_tRDPHCQYFgWHJTzYlbGriO1_\" width=\"250\">\n",
    " </h2>\n",
    "\n",
    "If the tensors $A$ and $C$ have dimensions $(D,p,D)$ then multiplying the tensors $A$ and $C$ together has a computational cost scaling as $D^4$.\n",
    "\n",
    "<h2 align=\"center\">\n",
    "<img src=\"https://drive.google.com/uc?export=view&id=1ocN263BnZ3rPB_G2wB3On367OuCpTekz\" width=\"180\">\n",
    " </h2>\n",
    "\n",
    "On the other hand if we first contract tensor $A$ with $B$ and only then contract with $C$, then the total computational cost scales as $D^3$!\n",
    "\n",
    "<h2 align=\"center\">\n",
    "<img src=\"https://drive.google.com/uc?export=view&id=16S97qoqV42Ihj6W_EgP-FacFnIbOoEqa\" width=\"250\">\n",
    " </h2>\n",
    "\n",
    "It is therefore important to have control over the contraction ordering, which `ncon` provides by either contracting the legs with the lowest index-label, or by following a user-defined order."
   ]
  },
  {
   "cell_type": "code",
   "execution_count": 7,
   "metadata": {
    "colab": {
     "base_uri": "https://localhost:8080/"
    },
    "id": "v99xAJU0tk4n",
    "outputId": "aa6676f1-92f1-429d-9a65-06741138cca5"
   },
   "outputs": [
    {
     "name": "stdout",
     "output_type": "stream",
     "text": [
      "For order [1, 2, 3]: time = 3.564274311065674 seconds\n"
     ]
    }
   ],
   "source": [
    "def contract_network(order):\n",
    "    \n",
    "    A = np.random.rand(100,2,100)\n",
    "    B = np.random.rand(100,100)\n",
    "    C = np.random.rand(100,2,100)\n",
    "\n",
    "    t = time.time()\n",
    "    D = tn.ncon([A,B,C],[[2,1,-2],[3,2],[3,1,-1]],con_order=order)\n",
    "    print( \"For order {}: time = {} seconds\".format(order, time.time()-t) )\n",
    "\n",
    "contract_network([1,2,3])"
   ]
  },
  {
   "cell_type": "markdown",
   "metadata": {
    "id": "8UpS6LDqQsP-"
   },
   "source": [
    "**Exercise 2**: You can accelerate the contraction above by playing with the `order` parameter! Try to find a faster contraction path."
   ]
  },
  {
   "cell_type": "code",
   "execution_count": 8,
   "metadata": {
    "colab": {
     "base_uri": "https://localhost:8080/"
    },
    "id": "00hSXuxzOvMc",
    "outputId": "8241e729-d2b8-4209-899f-8796621e8e5f"
   },
   "outputs": [
    {
     "name": "stdout",
     "output_type": "stream",
     "text": [
      "For order [3, 1, 2]: time = 0.009155035018920898 seconds\n"
     ]
    }
   ],
   "source": [
    "contract_network([3,1,2])"
   ]
  },
  {
   "cell_type": "markdown",
   "metadata": {
    "id": "sUR3FjhOQ6Ik"
   },
   "source": [
    "Finding the optimal contraction order is in general an NP-complete problem. Nevertheless, if we only have a handfull of tensors then it can be quickly found. For large networks, people generally use heuristic approaches to find good contraction orders. \n",
    "\n",
    "The `tensornetwork` library offers the `ncon_solver` interface, which uses such an approach to find good contractions orders. From its solution we can see that it's faster to contract first leg 3, then legs 1 and 2."
   ]
  },
  {
   "cell_type": "code",
   "execution_count": 9,
   "metadata": {
    "colab": {
     "base_uri": "https://localhost:8080/"
    },
    "id": "4Obc9VG8Q4df",
    "outputId": "4be855a5-c3f1-4adb-f9ef-f250bc2b65c4"
   },
   "outputs": [
    {
     "name": "stdout",
     "output_type": "stream",
     "text": [
      " the best order is [3, 1, 2]\n",
      " cost of the contraction in log10(FLOPS) = 6.6020599913279625\n",
      " is the order optimal? True\n"
     ]
    }
   ],
   "source": [
    "A = np.random.rand(100,2,100)\n",
    "B = np.random.rand(100,100)\n",
    "C = np.random.rand(100,2,100)\n",
    "\n",
    "# the original slow contraction\n",
    "order, cost, is_optimal = tn.contractors.ncon_solver([A,B,C],[[2,1,-2],[3,2],[3,1,-1]])\n",
    "print(f\" the best order is {order}\\n cost of the contraction in log10(FLOPS) = {cost}\\n is the order optimal? {is_optimal}\")"
   ]
  },
  {
   "cell_type": "markdown",
   "metadata": {
    "id": "xnrrMlawRtaJ"
   },
   "source": [
    "## Free particle on a ring"
   ]
  },
  {
   "cell_type": "markdown",
   "metadata": {
    "id": "kHC-AVyFRusX"
   },
   "source": [
    "In this section we will find the groundstate of a free particle hopping around on a ring, and then use ncon to calculate expectation values. The Hamiltonian of this system is given by \n",
    "\n",
    "$$H = \\sum_{i=0}^{N-1} -T_i + 2 K_i$$\n",
    "\n",
    "with the hopping operator \n",
    "$$ T_i = c^+_{i} c^-_{(i+1)mod N} + c^+_{(i+1) mod N} c^-_{i} $$\n",
    "and a local potential\n",
    "$$ K_i = c^+_i c^-_i $$\n",
    "\n",
    "$T_i$ and $K_i$ have the following matrix (or tensor) representations:"
   ]
  },
  {
   "cell_type": "code",
   "execution_count": 10,
   "metadata": {
    "id": "VDPgEsskRZif"
   },
   "outputs": [],
   "source": [
    "T = np.zeros((2,2,2,2))\n",
    "\n",
    "T[0,1,1,0] = 1\n",
    "T[1,0,0,1] = 1\n",
    "\n",
    "K = np.diag([0,1])"
   ]
  },
  {
   "cell_type": "markdown",
   "metadata": {
    "id": "hiqXFKgEVSX1"
   },
   "source": [
    "**Exercise 3**: implement the full hamiltonian $H = \\sum_i - T_i + 2 K_i$ assuming periodic boundary conditions for a system of size 6, using `ncon`."
   ]
  },
  {
   "cell_type": "code",
   "execution_count": 11,
   "metadata": {
    "id": "1qnCg9klR_Nz"
   },
   "outputs": [],
   "source": [
    "H = np.zeros((2,2,2,2,2,2,2,2,2,2,2,2))\n",
    "eye = np.diag([1,1])\n",
    "\n",
    "H += tn.ncon([2*K,eye,eye,eye,eye,eye],[[-1,-7],[-2,-8],[-3,-9],[-4,-10],[-5,-11],[-6,-12]])\n",
    "H += tn.ncon([eye,2*K,eye,eye,eye,eye],[[-1,-7],[-2,-8],[-3,-9],[-4,-10],[-5,-11],[-6,-12]])\n",
    "H += tn.ncon([eye,eye,2*K,eye,eye,eye],[[-1,-7],[-2,-8],[-3,-9],[-4,-10],[-5,-11],[-6,-12]])\n",
    "H += tn.ncon([eye,eye,eye,2*K,eye,eye],[[-1,-7],[-2,-8],[-3,-9],[-4,-10],[-5,-11],[-6,-12]])\n",
    "H += tn.ncon([eye,eye,eye,eye,2*K,eye],[[-1,-7],[-2,-8],[-3,-9],[-4,-10],[-5,-11],[-6,-12]])\n",
    "H += tn.ncon([eye,eye,eye,eye,eye,2*K],[[-1,-7],[-2,-8],[-3,-9],[-4,-10],[-5,-11],[-6,-12]])\n",
    "\n",
    "H -= tn.ncon([T,eye,eye,eye,eye],[[-1,-2,-7,-8],[-3,-9],[-4,-10],[-5,-11],[-6,-12]])\n",
    "H -= tn.ncon([T,eye,eye,eye,eye],[[-2,-3,-8,-9],[-1,-7],[-4,-10],[-5,-11],[-6,-12]])\n",
    "H -= tn.ncon([T,eye,eye,eye,eye],[[-3,-4,-9,-10],[-1,-7],[-2,-8],[-5,-11],[-6,-12]])\n",
    "H -= tn.ncon([T,eye,eye,eye,eye],[[-4,-5,-10,-11],[-1,-7],[-2,-8],[-3,-9],[-6,-12]])\n",
    "H -= tn.ncon([T,eye,eye,eye,eye],[[-5,-6,-11,-12],[-1,-7],[-2,-8],[-3,-9],[-4,-10]])\n",
    "H -= tn.ncon([T,eye,eye,eye,eye],[[-6,-1,-12,-7],[-2,-8],[-3,-9],[-4,-10],[-5,-11]])\n"
   ]
  },
  {
   "cell_type": "markdown",
   "metadata": {
    "id": "5HlDj8NdVm4Q"
   },
   "source": [
    "The hamiltonian commutes with the translation operator, so different eigenvectors of the hamiltonian will have different momenta. The translation operator $T$ has the following diagrammatic form:\n",
    "<h2 align=\"center\">\n",
    "<img src=\"https://drive.google.com/uc?export=view&id=1Yq--W7FE2L8v6tQsBFGAFDblgHiVJIRY\" width=\"700\">\n",
    " </h2>\n",
    "\n",
    "If we diagonalize the product $HT$, we obtain simultaneous eigenmodes and eigenvalues of $H$ and $T$. \n",
    "\n",
    "**Exercise 4**: Use the diagram above and the `ncon` function to compute the translation operator by one site, $T$, and compute the eigenvalues of  $TH$."
   ]
  },
  {
   "cell_type": "code",
   "execution_count": 12,
   "metadata": {
    "colab": {
     "base_uri": "https://localhost:8080/",
     "height": 899
    },
    "id": "8Qp7LVNzVYSg",
    "outputId": "f51b4e6d-a8e5-4bb0-a6ac-2624d66a57bd"
   },
   "outputs": [
    {
     "data": {
      "image/png": "[encoded data removed]",
      "text/plain": [
       "<Figure size 432x288 with 1 Axes>"
      ]
     },
     "metadata": {
      "needs_background": "light"
     },
     "output_type": "display_data"
    },
    {
     "data": {
      "text/plain": [
       "Text(0, 0.5, 'E(k)')"
      ]
     },
     "execution_count": 12,
     "metadata": {},
     "output_type": "execute_result"
    },
    {
     "data": {
      "image/png": "[encoded data removed]",
      "text/plain": [
       "<Figure size 432x288 with 1 Axes>"
      ]
     },
     "metadata": {
      "needs_background": "light"
     },
     "output_type": "display_data"
    }
   ],
   "source": [
    "Translation = tn.ncon([eye,eye,eye,eye,eye,eye],[[-2,-7],[-3,-8],[-4,-9],[-5,-10],[-6,-11],[-1,-12]])\n",
    "T = np.reshape(Translation,(2*2*2*2*2*2,2*2*2*2*2*2))\n",
    "(vals,vecs) = np.linalg.eig(T@np.reshape(H,(2*2*2*2*2*2,2*2*2*2*2*2)))\n",
    "\n",
    "vals = np.sort(vals)\n",
    "plt.scatter(np.real(vals), np.imag(vals))\n",
    "plt.xlabel('real part')\n",
    "plt.ylabel('imag part')\n",
    "\n",
    "angles = np.angle(vals)\n",
    "absvals = np.abs(vals)\n",
    "plt.show()\n",
    "plt.scatter(angles, absvals)\n",
    "plt.xlabel('k')\n",
    "plt.ylabel('E(k)')\n"
   ]
  },
  {
   "cell_type": "markdown",
   "metadata": {
    "id": "nhTafqSdSUg2"
   },
   "source": [
    "**Question**: How does the spectrum change if we diagonalize $TTH$ instead, or $TTTH$?"
   ]
  },
  {
   "cell_type": "markdown",
   "metadata": {
    "id": "fCTo4uZ3W4N4"
   },
   "source": [
    "## Matrix product states"
   ]
  },
  {
   "cell_type": "markdown",
   "metadata": {
    "id": "Jxp-Khz_XA1r"
   },
   "source": [
    "Matrix product states are simple chains of tensors\n",
    "\n",
    "<h2 align=\"center\">\n",
    "<img src=\"https://drive.google.com/uc?export=view&id=1w5Ov5wKaIso8GHVMlBGGAwPLK-vwGG3-\" width=\"700\">\n",
    " </h2>\n",
    "\n",
    "The ordering of the three legs of each tensor is given by the red integers in the following diagram:\n",
    " <h2 align=\"center\">\n",
    "<img src=\"https://drive.google.com/uc?export=view&id=1Hmgw9O57wJQiKvMemeCJ4-3Vb9aCljCf\" width=\"300\">\n",
    " </h2>\n",
    "\n",
    " The leg with index \"2\" above is called \"physical leg\" with dimension $d_i$, and the horizant two legs (with indices \"1\" and \"3\") are called ancillary or auxilliary legs with bond dimensions $D_{i-1}, D_i$\n",
    "\n"
   ]
  },
  {
   "cell_type": "code",
   "execution_count": 13,
   "metadata": {
    "id": "mTBZrWL0WZFN"
   },
   "outputs": [],
   "source": [
    "# define random mps tensors\n",
    "t_1 = np.random.rand(1,2,2)\n",
    "t_2 = np.random.rand(2,2,4)\n",
    "t_3 = np.random.rand(4,2,4)\n",
    "t_4 = np.random.rand(4,2,4)\n",
    "t_5 = np.random.rand(4,2,2)\n",
    "t_6 = np.random.rand(2,2,1)\n",
    "\n",
    "state = [t_1,t_2,t_3,t_4,t_5,t_6]"
   ]
  },
  {
   "cell_type": "markdown",
   "metadata": {
    "id": "swVf63d5XZjd"
   },
   "source": [
    "The `tensornetwork` library provides both a more convenient constructor and a proper \"`FiniteMPS`\" type:"
   ]
  },
  {
   "cell_type": "code",
   "execution_count": 14,
   "metadata": {
    "id": "DuL4jNtXXTIx"
   },
   "outputs": [],
   "source": [
    "# this creates a random new mps\n",
    "rank = 6\n",
    "phys_dim = 2\n",
    "phys_dims = [2 for _ in range(rank)]\n",
    "bond_dims = [4 for _ in range(rank-1)]\n",
    "fmps = tn.FiniteMPS.random(d = phys_dims,D = bond_dims, dtype = np.float32, canonicalize=True)\n",
    "\n",
    "# this creates one from our list of tensors\n",
    "fmps = tn.FiniteMPS(state)"
   ]
  },
  {
   "cell_type": "markdown",
   "metadata": {
    "id": "8L2z1C6RXlix"
   },
   "source": [
    "The advantage of matrix product states is that they provide a way of parametrizing states in a $d^n$ dimensional hilbert space, with a number of parameters that only scale linearly in $n$! They describe only a small corner of the hilbert space, where the size of this corner is intimitaly related to the dimension of the leg that we contract over (in our example this \"bond dimension\" is 4). MPS shine when they can efficiently describe a target state using a small bond dimension, for example when approximating a groundstate of a local, gapped hamiltonian in 1d. "
   ]
  },
  {
   "cell_type": "markdown",
   "metadata": {
    "id": "bQC25BGlSwPK"
   },
   "source": [
    "### Computing the norm of an MPS"
   ]
  },
  {
   "cell_type": "markdown",
   "metadata": {
    "id": "HWRZO52GSq6k"
   },
   "source": [
    "We can calculate the norm of the MPS by evaluating the following contraction diagram\n",
    "\n",
    "<h2 align=\"center\">\n",
    "<img src=\"https://drive.google.com/uc?export=view&id=1VuKhzOuFVwzafAExZiVAg2dcNxkuXixl\" width=\"700\">\n",
    " </h2>\n",
    "\n",
    " Dashed lines at the left and right end denote contractions over an index of size 1, i.e. it can be ommited. \n",
    "\n",
    " The full contraction can be carried out iteratively, e.g. from left to right, following the pattern shown below:\n",
    "<h2 align=\"center\">\n",
    "<img src=\"https://drive.google.com/uc?export=view&id=1ARokR6gGHXsok_4L4ulU-ng7SLV4ZpZc\" width=\"400\">\n",
    " </h2>\n",
    "\n"
   ]
  },
  {
   "cell_type": "code",
   "execution_count": 15,
   "metadata": {
    "colab": {
     "base_uri": "https://localhost:8080/"
    },
    "id": "K3gr4kO2XfAJ",
    "outputId": "38af2ae6-d736-4d4e-f58f-3a3149626903"
   },
   "outputs": [
    {
     "data": {
      "text/plain": [
       "array([[1653.82610695]])"
      ]
     },
     "execution_count": 15,
     "metadata": {},
     "output_type": "execute_result"
    }
   ],
   "source": [
    "left = np.ones((1,1))\n",
    "for t in state:\n",
    "    left = tn.ncon([left,t,tn.conj(t)],[[1,2],[2,3,-2],[1,3,-1]])\n",
    "left"
   ]
  },
  {
   "cell_type": "markdown",
   "metadata": {
    "id": "6KEz6VF0S_jT"
   },
   "source": [
    "The approach we used here was to start from the left, and every time add a single tensor \"transfer operator\". \n",
    "\n",
    "We could also have started from the right hand side in an analogous fashion. In general, one often faces the situation where one needs to contract such a diagram partially. In the above case for example, it could mean that one needs to contract the network up to the tensors at site 3, $t_3$ and $\\bar t_3$. The diagram would then be simplified into \n",
    "<h2 align=\"center\">\n",
    "<img src=\"https://drive.google.com/uc?export=view&id=1FPGoF2cF_2UuXsNIrZRnkOnFKr0ofIVu\" width=\"250\">\n",
    " </h2>\n",
    " with $i=3$. The tensors $L_i$ and $R_i$ are called *environment* tensors of site $i$ for the norm of the MPS. Depending on the actual network one is interested in, environment tensors can become quite complex. In the case we're considering here, they are order-2 tensors, i.e. matrices. \n",
    "\n",
    " Many tensor network algorithms are formulated as local optimization problems, i.e. tensors are optimized one after the other (sequentially) according to some cost function, given by a tensor network. A crucial part of the optimization is the ability to *efficiently* compute the environments of the corresponding tensors."
   ]
  },
  {
   "cell_type": "markdown",
   "metadata": {
    "id": "0ooa1sXcta59"
   },
   "source": [
    "**Exercise 5**: Construct the $L$ and $R$ tensors for the 4th tensor (at index 3) of the \"state\" MPS"
   ]
  },
  {
   "cell_type": "code",
   "execution_count": 16,
   "metadata": {
    "colab": {
     "base_uri": "https://localhost:8080/"
    },
    "id": "7ddoCMZftaWQ",
    "outputId": "81e43f42-929f-4b61-9e77-0cf6cf0df803"
   },
   "outputs": [
    {
     "data": {
      "text/plain": [
       "array(1653.82610695)"
      ]
     },
     "execution_count": 16,
     "metadata": {},
     "output_type": "execute_result"
    }
   ],
   "source": [
    "left = np.ones((1,1))\n",
    "right = np.ones((1,1))\n",
    "\n",
    "### Solution to Exercise 5 ###\n",
    "\n",
    "# construct the correct L and R tensors for state[3]:\n",
    "for loc in range(3):\n",
    "    left = tn.ncon([left,state[loc],tn.conj(state[loc])],[[1,2],[2,3,-2],[1,3,-1]])\n",
    "\n",
    "for loc in reversed(range(4,len(state))):\n",
    "    right = tn.ncon([right,state[loc],tn.conj(state[loc])],[[1,2],[-1,3,1],[-2,3,2]])\n",
    "\n",
    "tn.ncon([left,state[3],tn.conj(state[3]),right],[[1,2],[2,3,4],[1,3,5],[4,5]])"
   ]
  },
  {
   "cell_type": "markdown",
   "metadata": {
    "id": "Z601YRcoX1_l"
   },
   "source": [
    "### Gauge transformation"
   ]
  },
  {
   "cell_type": "markdown",
   "metadata": {
    "id": "AUMGvg4itwI9"
   },
   "source": [
    "\n",
    "The norm-environment above (and often other environments on more complicated tensor networks) can potentially be rank-defficient. This property can, and should, be exploited to reduce the computational burden of an algorithm. In practice, it is often even mandatory to exploit the low-rank structure in order to stabilize the optimization. An important tool in the MPS toolbox are *gauge transformations*, which can be used to reveal the low-rank structure of an MPS tensor.\n",
    "\n",
    "Gauge transformations in MPS language are local transformations of the MPS tensors which leave the global state invariant. \n",
    "In the following we insert a resolution of the identity on one bond of the MPS. The global states is trivially invariant under this change. \n",
    "\n",
    "\n",
    "<h2 align=\"center\">\n",
    "<img src=\"https://drive.google.com/uc?export=view&id=1k8JGt-gkS84TaICCa4jzln_PFytYOq43\" width=\"900\">\n",
    " </h2>\n",
    "\n",
    "Another example would be the use of the QR decomposition to decompose tensor $t_i$ into an orthogonal and an upper-triangular matrix,\n",
    "\n",
    "<h2 align=\"center\">\n",
    "<img src=\"https://drive.google.com/uc?export=view&id=10Fz_dv3tJC44L7hdNanG0WPLK6RZEqFl\" width=\"400\">\n",
    " </h2>\n",
    "\n",
    "such that\n",
    "\n",
    "<h2 align=\"center\">\n",
    "<img src=\"https://drive.google.com/uc?export=view&id=1YA9RIj1ys7z06VXnKC4RjqCmkj4XmoBt\" width=\"250\">\n",
    "</h2>\n",
    "\n",
    "The QR decomposition is a particular useful tool, and it can be used to bring an MPS into central canonical form with respect to a given site $i$. This means that all MPS tensors to the left of site $i$ are left-isometric, and all tensors to the right of site $i$ are right isometric. An immediate advantage of this gauge is that the left and right norm-environments $L_i$ and $R_i$ above become identities. "
   ]
  },
  {
   "cell_type": "code",
   "execution_count": 17,
   "metadata": {
    "colab": {
     "base_uri": "https://localhost:8080/"
    },
    "id": "J_8GhZ3iYPeK",
    "outputId": "621d7fab-c45b-431c-a0a4-7b2dccd1e927"
   },
   "outputs": [
    {
     "data": {
      "text/plain": [
       "array(1653.82610695)"
      ]
     },
     "execution_count": 17,
     "metadata": {},
     "output_type": "execute_result"
    }
   ],
   "source": [
    "for i in range(3):\n",
    "    t = tn.Node(state[i]) # a node is a backend-agnostic tensor container\n",
    "    (q,r) = tn.split_node_qr(t,left_edges=[t[0],t[1]],right_edges=[t[2]])\n",
    "    state[i] = q.tensor\n",
    "    state[i+1] = tn.ncon([r.tensor,state[i+1]],[[-1,1],[1,-2,-3]])\n",
    "\n",
    "for i in reversed(range(4,len(state))):\n",
    "    t = tn.Node(state[i])\n",
    "    (r,q) = tn.split_node_rq(t,left_edges=[t[0]],right_edges=[t[1],t[2]])\n",
    "    state[i] = q.tensor;\n",
    "    state[i-1] = tn.ncon([state[i-1],r.tensor],[[-1,-2,1],[1,-3]])\n",
    "    \n",
    "tn.ncon([state[3],tn.conj(state[3])],[[1,2,3],[1,2,3]])"
   ]
  },
  {
   "cell_type": "markdown",
   "metadata": {
    "id": "w3iWRl89vTzN"
   },
   "source": [
    "This gauge is often referred to as central canonical gauge. The `tensornetwork` library contains a utility function to move this center site around, using the `mps.position` function."
   ]
  },
  {
   "cell_type": "code",
   "execution_count": 18,
   "metadata": {
    "colab": {
     "base_uri": "https://localhost:8080/"
    },
    "id": "1o8nRQ2vu9TO",
    "outputId": "5051c275-df8c-4a37-ffdc-9bb9838fc4f5"
   },
   "outputs": [
    {
     "data": {
      "text/plain": [
       "array([[ 1.00000000e+00, -6.17395962e-17],\n",
       "       [-6.17395962e-17,  1.00000000e+00]])"
      ]
     },
     "execution_count": 18,
     "metadata": {},
     "output_type": "execute_result"
    }
   ],
   "source": [
    "fmps = tn.FiniteMPS(state) # create a finite mps object and normalize the tensors\n",
    "fmps.position(1) # the second tensor is now the \"center site\"\n",
    "tn.ncon([fmps.tensors[0],tn.conj(fmps.tensors[0])],[[1,2,-2],[1,2,-1]]) # the site to the left should be a left isometry!"
   ]
  },
  {
   "cell_type": "code",
   "execution_count": 19,
   "metadata": {
    "colab": {
     "base_uri": "https://localhost:8080/"
    },
    "id": "7COK2-slvZbo",
    "outputId": "a087ec86-1f7e-43c2-af91-7d57439980be"
   },
   "outputs": [
    {
     "data": {
      "text/plain": [
       "array([[ 1.00000000e+00, -8.15862135e-17, -2.60208521e-18,\n",
       "         4.77048956e-18],\n",
       "       [-8.15862135e-17,  1.00000000e+00, -1.64798730e-17,\n",
       "        -2.08166817e-17],\n",
       "       [-2.60208521e-18, -1.64798730e-17,  1.00000000e+00,\n",
       "         5.55111512e-17],\n",
       "       [ 4.77048956e-18, -2.08166817e-17,  5.55111512e-17,\n",
       "         1.00000000e+00]])"
      ]
     },
     "execution_count": 19,
     "metadata": {},
     "output_type": "execute_result"
    }
   ],
   "source": [
    "tn.ncon([fmps.tensors[2],tn.conj(fmps.tensors[2])],[[-1,2,1],[-2,2,1]]) # every site to the right should be a right isometry"
   ]
  }
 ],
 "metadata": {
  "colab": {
   "provenance": []
  },
  "kernelspec": {
   "display_name": "Python 3",
   "language": "python",
   "name": "python3"
  },
  "language_info": {
   "codemirror_mode": {
    "name": "ipython",
    "version": 3
   },
   "file_extension": ".py",
   "mimetype": "text/x-python",
   "name": "python",
   "nbconvert_exporter": "python",
   "pygments_lexer": "ipython3",
   "version": "3.8.5"
  }
 },
 "nbformat": 4,
 "nbformat_minor": 1
}
